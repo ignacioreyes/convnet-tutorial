{
 "cells": [
  {
   "cell_type": "markdown",
   "metadata": {},
   "source": [
    "Some consideration before starting:\n",
    "-Edit cifar10.py file, setting the directory where CIFAR10 dataset is located."
   ]
  },
  {
   "cell_type": "code",
   "execution_count": 13,
   "metadata": {
    "collapsed": false
   },
   "outputs": [],
   "source": [
    "import os\n",
    "import sys\n",
    "import time\n",
    "\n",
    "import numpy as np\n",
    "import matplotlib.pyplot as plt\n",
    "%matplotlib inline \n",
    "import tensorflow as tf\n",
    "\n",
    "from cifar10 import CIFAR10"
   ]
  },
  {
   "cell_type": "code",
   "execution_count": 3,
   "metadata": {
    "collapsed": true
   },
   "outputs": [],
   "source": [
    "sess = tf.InteractiveSession()"
   ]
  },
  {
   "cell_type": "code",
   "execution_count": 4,
   "metadata": {
    "collapsed": false
   },
   "outputs": [],
   "source": [
    "# Load dataset\n",
    "cifar10 = CIFAR10(batch_size=100, validation_proportion=0.1)\n",
    "\n",
    "SUMMARIES_DIR = './summaries'"
   ]
  },
  {
   "cell_type": "code",
   "execution_count": 5,
   "metadata": {
    "collapsed": true
   },
   "outputs": [],
   "source": [
    "# Model blocks\n",
    "def conv_layer(input_tensor, kernel_shape, layer_name):\n",
    "    # input_tensor b01c\n",
    "    # kernel_shape 01-in-out\n",
    "    weights = tf.get_variable(\"weights\", kernel_shape,\n",
    "                               initializer = tf.contrib.layers.xavier_initializer_conv2d())\n",
    "    biases = tf.get_variable(\"biases\", [kernel_shape[3]],\n",
    "                             initializer=tf.constant_initializer(0.0))\n",
    "    \n",
    "    tf.histogram_summary(layer_name + \"/weights\", weights)\n",
    "    tf.histogram_summary(layer_name + \"/biases\", biases)\n",
    "    \n",
    "    # Other options are to use He et. al init. for weights and 0.01 \n",
    "    # to init. biases.\n",
    "    conv = tf.nn.conv2d(input_tensor, weights, \n",
    "                       strides = [1, 1, 1, 1], padding='SAME')\n",
    "    return tf.nn.relu(conv + biases)\n",
    "\n",
    "def fc_layer(input_tensor, weights_shape, layer_name):\n",
    "    # weights_shape in-out\n",
    "    weights = tf.get_variable(\"weights\", weights_shape,\n",
    "                              initializer = tf.contrib.layers.xavier_initializer())\n",
    "    biases = tf.get_variable(\"biases\", [weights_shape[1]],\n",
    "                             initializer=tf.constant_initializer(0.0))\n",
    "    tf.histogram_summary(layer_name + \"/weights\", weights)\n",
    "    tf.histogram_summary(layer_name + \"/biases\", biases)\n",
    "    mult_out = tf.matmul(input_tensor, weights)\n",
    "    return tf.nn.relu(mult_out+biases)\n",
    "    "
   ]
  },
  {
   "cell_type": "code",
   "execution_count": 6,
   "metadata": {
    "collapsed": false
   },
   "outputs": [
    {
     "data": {
      "text/plain": [
       "<tf.Tensor 'ScalarSummary:0' shape=() dtype=string>"
      ]
     },
     "execution_count": 6,
     "metadata": {},
     "output_type": "execute_result"
    }
   ],
   "source": [
    "# Model\n",
    "model_input = tf.placeholder(tf.float32, name='model_input')\n",
    "first_layer_input = tf.reshape(model_input, [-1,3072], name='first_layer_input')\n",
    "tf.image_summary('input', model_input, 10)\n",
    "\n",
    "keep_prob = tf.placeholder(tf.float32, name='dropout_prob')\n",
    "\n",
    "target = tf.placeholder(tf.float32, name='target')\n",
    "\n",
    "\n",
    "layer_name = 'fc1'\n",
    "with tf.variable_scope(layer_name):\n",
    "    fc1_out = fc_layer(first_layer_input, [3072, 100], layer_name)\n",
    "\n",
    "fc1_out_drop = tf.nn.dropout(fc1_out, keep_prob)\n",
    "\n",
    "layer_name = 'fc2'\n",
    "with tf.variable_scope(layer_name):\n",
    "    fc2_out = fc_layer(fc1_out_drop, [100, 10], layer_name)\n",
    "    \n",
    "cross_entropy = tf.reduce_mean(\n",
    "    tf.nn.softmax_cross_entropy_with_logits(fc2_out, target,\n",
    "                                           name='cross_entropy'))\n",
    "tf.scalar_summary('cross_entropy', cross_entropy)"
   ]
  },
  {
   "cell_type": "code",
   "execution_count": 7,
   "metadata": {
    "collapsed": true
   },
   "outputs": [],
   "source": [
    "# Optimization\n",
    "optimizer = tf.train.AdamOptimizer(1e-4)\n",
    "grads_vars = optimizer.compute_gradients(cross_entropy)\n",
    "optimizer.apply_gradients(grads_vars)\n",
    "train_step = optimizer.minimize(cross_entropy)\n",
    "\n",
    "# Metrics\n",
    "correct_prediction = tf.equal(tf.argmax(fc2_out, 1),\n",
    "                             tf.argmax(target, 1))\n",
    "accuracy = tf.reduce_mean(tf.cast(correct_prediction, tf.float32), name='accuracy')\n",
    "tf.scalar_summary('accuracy', accuracy)\n",
    "\n",
    "# Useful training functions\n",
    "def validate():\n",
    "    data, labels = cifar10.getValidationSet()\n",
    "    acc = sess.run((accuracy),\n",
    "                   feed_dict={\n",
    "            model_input: data,\n",
    "            target: labels,\n",
    "            keep_prob: 1.0\n",
    "        })\n",
    "    return acc\n",
    "def test():\n",
    "    data, labels = cifar10.getTestSet()\n",
    "    acc = sess.run((accuracy),\n",
    "                   feed_dict={\n",
    "            model_input: data,\n",
    "            target: labels,\n",
    "            keep_prob: 1.0\n",
    "        })\n",
    "    return acc"
   ]
  },
  {
   "cell_type": "code",
   "execution_count": 10,
   "metadata": {
    "collapsed": false
   },
   "outputs": [
    {
     "name": "stdout",
     "output_type": "stream",
     "text": [
      "Trainable variables\n",
      "fc1/weights:0\n",
      "fc1/biases:0\n",
      "fc2/weights:0\n",
      "fc2/biases:0\n",
      "Epoch 0, loss 3.201166\n",
      "Validation accuracy 0.105800\n",
      "Time elapsed 0.00279581546783 minutes\n",
      "Epoch 1, loss 2.037901\n",
      "Validation accuracy 0.386200\n",
      "Time elapsed 0.151786148548 minutes\n",
      "Epoch 2, loss 1.905654\n",
      "Validation accuracy 0.405000\n",
      "Time elapsed 0.310033849875 minutes\n",
      "Epoch 3, loss 1.770719\n",
      "Validation accuracy 0.425200\n",
      "Time elapsed 0.504926117261 minutes\n",
      "Epoch 4, loss 1.755839\n",
      "Validation accuracy 0.431000\n",
      "Time elapsed 0.698991882801 minutes\n",
      "Epoch 5, loss 1.678827\n",
      "Validation accuracy 0.442800\n",
      "Time elapsed 0.889695616563 minutes\n",
      "Epoch 6, loss 1.697742\n",
      "Validation accuracy 0.447400\n",
      "Time elapsed 1.07848661741 minutes\n",
      "Epoch 7, loss 1.686617\n",
      "Validation accuracy 0.452000\n",
      "Time elapsed 1.26703643401 minutes\n",
      "Epoch 8, loss 1.776602\n",
      "Validation accuracy 0.453200\n",
      "Time elapsed 1.46046104829 minutes\n",
      "Epoch 9, loss 1.734780\n",
      "Validation accuracy 0.460600\n",
      "Time elapsed 1.6535634319 minutes\n"
     ]
    }
   ],
   "source": [
    "# Train model\n",
    "merged = tf.merge_all_summaries()\n",
    "train_writer = tf.train.SummaryWriter(SUMMARIES_DIR,\n",
    "                                     sess.graph)\n",
    "sess.run(tf.initialize_all_variables())\n",
    "cifar10.reset()\n",
    "print \"Trainable variables\"\n",
    "for n in tf.trainable_variables():\n",
    "    print n.name\n",
    "epochs = 10\n",
    "mean_gradients = np.zeros([len(tf.trainable_variables()),epochs])\n",
    "std_gradients = np.zeros([len(tf.trainable_variables()),epochs])\n",
    "\n",
    "t_i = time.time()\n",
    "n_batches = cifar10.n_batches\n",
    "while cifar10.getEpoch()<epochs:\n",
    "    epoch = cifar10.getEpoch()\n",
    "    batch, batch_idx = cifar10.nextBatch()\n",
    "    batch_data = batch[0]\n",
    "    batch_labels = batch[1]\n",
    "    summary, _, loss, grads = sess.run((merged, train_step, cross_entropy, grads_vars), \n",
    "                      feed_dict={\n",
    "            model_input: batch_data,\n",
    "            target: batch_labels,\n",
    "            keep_prob: 0.5\n",
    "        })\n",
    "\n",
    "    step = batch_idx+epoch*n_batches\n",
    "    if step%10==0:\n",
    "        train_writer.add_summary(summary, step)\n",
    "    if batch_idx==0:\n",
    "        for layer in range(len(tf.trainable_variables())):\n",
    "            mean_gradients[layer,epoch] = np.mean(np.abs(grads[layer][0]))\n",
    "            std_gradients[layer,epoch] = np.std(np.abs(grads[layer][0]))\n",
    "        print \"Epoch %d, loss %f\" %(epoch, loss)\n",
    "        validation_accuracy = validate()\n",
    "        print \"Validation accuracy %f\"%(validation_accuracy)\n",
    "        print \"Time elapsed\", (time.time()-t_i)/60.0, \"minutes\""
   ]
  },
  {
   "cell_type": "code",
   "execution_count": 14,
   "metadata": {
    "collapsed": false
   },
   "outputs": [
    {
     "data": {
      "image/png": "[encoded data removed]",
      "text/plain": [
       "<matplotlib.figure.Figure at 0x7f2e86f09690>"
      ]
     },
     "metadata": {},
     "output_type": "display_data"
    },
    {
     "data": {
      "image/png": "[encoded data removed]",
      "text/plain": [
       "<matplotlib.figure.Figure at 0x7f2e865acb50>"
      ]
     },
     "metadata": {},
     "output_type": "display_data"
    }
   ],
   "source": [
    "x = np.arange(epochs)\n",
    "plt.errorbar(x,mean_gradients[0,:],std_gradients[0,:])\n",
    "plt.hold(True)\n",
    "plt.errorbar(x,mean_gradients[2,:],std_gradients[2,:])\n",
    "plt.ylabel('Gradient')\n",
    "plt.xlabel('Epochs')\n",
    "plt.title('Weights Gradient by Layer')\n",
    "plt.legend([\"fc1\",\"fc2\"])\n",
    "plt.hold(False)\n",
    "plt.show()\n",
    "plt.errorbar(x,mean_gradients[1,:],std_gradients[1,:])\n",
    "plt.hold(True)\n",
    "plt.errorbar(x,mean_gradients[3,:],std_gradients[3,:])\n",
    "plt.ylabel('Gradient')\n",
    "plt.xlabel('Epochs')\n",
    "plt.title('Biases Gradient by Layer')\n",
    "plt.legend([\"fc1\",\"fc2\"])\n",
    "plt.hold(False)\n",
    "plt.show()"
   ]
  },
  {
   "cell_type": "code",
   "execution_count": null,
   "metadata": {
    "collapsed": true
   },
   "outputs": [],
   "source": []
  }
 ],
 "metadata": {
  "kernelspec": {
   "display_name": "Python 2",
   "language": "python",
   "name": "python2"
  },
  "language_info": {
   "codemirror_mode": {
    "name": "ipython",
    "version": 2
   },
   "file_extension": ".py",
   "mimetype": "text/x-python",
   "name": "python",
   "nbconvert_exporter": "python",
   "pygments_lexer": "ipython2",
   "version": "2.7.6"
  }
 },
 "nbformat": 4,
 "nbformat_minor": 0
}
